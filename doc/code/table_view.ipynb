{
 "cells": [
  {
   "cell_type": "code",
   "execution_count": 1,
   "metadata": {},
   "outputs": [],
   "source": [
    "import pandas as pd\n",
    "import numpy as np"
   ]
  },
  {
   "cell_type": "markdown",
   "metadata": {},
   "source": [
    "Субъектом может быть клиент или компания, глагол — действие типа \"покупка\", \"оплата\", \"возврат\", а объект — товар или услуга. Нужно создать правдоподобные данные, которые отражают такие взаимодействия."
   ]
  },
  {
   "cell_type": "markdown",
   "metadata": {},
   "source": [
    "Списки возможных субъектов. Например, клиенты с ID или именами, и компании. Для клиентов можно использовать имена и фамилии, сгенерированные случайно. Компании могут быть фиктивными названиями, например, \"TechCorp\", \"ShopWorld\" и т.д."
   ]
  },
  {
   "cell_type": "markdown",
   "metadata": {},
   "source": [
    "Затем глаголы. Действия в транзакциях: purchased, returned, paid, ordered, canceled. Нужно убедиться, что глаголы подходят для транзакционного контекста."
   ]
  },
  {
   "cell_type": "markdown",
   "metadata": {},
   "source": [
    "Объекты — это товары или услуги. Можно составить список популярных товаров: smartphone, laptop, book, headphones, etc. Также можно добавить услуги типа \"online course\", \"subscription\"."
   ]
  },
  {
   "cell_type": "code",
   "execution_count": 2,
   "metadata": {},
   "outputs": [],
   "source": [
    "np.random.seed(42)"
   ]
  },
  {
   "cell_type": "code",
   "execution_count": null,
   "metadata": {},
   "outputs": [],
   "source": [
    "num_records = 1000"
   ]
  },
  {
   "cell_type": "code",
   "execution_count": null,
   "metadata": {},
   "outputs": [],
   "source": [
    "# элементы для генерации\n",
    "customers = ['Customer_' + str(i).zfill(5) for i in range(1, 501)]\n",
    "companies = ['TechCorp', 'ShopWorld', 'ServiceMax', 'RetailGlobal', 'FastGoods']\n",
    "verbs_customer = ['purchased', 'returned', 'paid for', 'ordered', 'canceled']\n",
    "verbs_company = ['processed', 'shipped', 'confirmed', 'rejected', 'refunded']\n",
    "products = ['smartphone', 'laptop', 'book', 'headphones', 'gaming console', 'smartwatch']\n",
    "services = ['online course', 'subscription', 'warranty extension', 'service plan']\n",
    "order_numbers = ['ORDER-' + str(i).zfill(6) for i in range(1000, 2000)]"
   ]
  },
  {
   "cell_type": "code",
   "execution_count": 5,
   "metadata": {},
   "outputs": [],
   "source": [
    "data = []\n",
    "\n",
    "for _ in range(num_records):\n",
    "    # случайный тип субъекта (70% клиенты, 30% компании)\n",
    "    if np.random.rand() < 0.7:\n",
    "        subject = np.random.choice(customers)\n",
    "        verb = np.random.choice(verbs_customer)\n",
    "        obj = np.random.choice(products + services)\n",
    "    else:\n",
    "        subject = np.random.choice(companies)\n",
    "        verb = np.random.choice(verbs_company)\n",
    "        obj = np.random.choice(order_numbers + services)\n",
    "    \n",
    "    data.append([subject, verb, obj])\n"
   ]
  },
  {
   "cell_type": "code",
   "execution_count": 6,
   "metadata": {},
   "outputs": [],
   "source": [
    "df = pd.DataFrame(data, columns=['subject', 'verb', 'object'])"
   ]
  },
  {
   "cell_type": "code",
   "execution_count": 7,
   "metadata": {},
   "outputs": [
    {
     "name": "stderr",
     "output_type": "stream",
     "text": [
      "/tmp/ipykernel_1084/2720287218.py:2: FutureWarning: 'H' is deprecated and will be removed in a future version, please use 'h' instead.\n",
      "  df['timestamp'] = pd.date_range(start='2023-01-01', periods=num_records, freq='H')\n"
     ]
    }
   ],
   "source": [
    "# добавление дополнительных атрибутов для реалистичности\n",
    "df['timestamp'] = pd.date_range(start='2023-01-01', periods=num_records, freq='H')\n",
    "df['amount'] = np.round(np.random.uniform(10, 2000, num_records), 2)"
   ]
  },
  {
   "cell_type": "code",
   "execution_count": 9,
   "metadata": {},
   "outputs": [
    {
     "data": {
      "text/html": [
       "<div>\n",
       "<style scoped>\n",
       "    .dataframe tbody tr th:only-of-type {\n",
       "        vertical-align: middle;\n",
       "    }\n",
       "\n",
       "    .dataframe tbody tr th {\n",
       "        vertical-align: top;\n",
       "    }\n",
       "\n",
       "    .dataframe thead th {\n",
       "        text-align: right;\n",
       "    }\n",
       "</style>\n",
       "<table border=\"1\" class=\"dataframe\">\n",
       "  <thead>\n",
       "    <tr style=\"text-align: right;\">\n",
       "      <th></th>\n",
       "      <th>subject</th>\n",
       "      <th>verb</th>\n",
       "      <th>object</th>\n",
       "      <th>timestamp</th>\n",
       "      <th>amount</th>\n",
       "    </tr>\n",
       "  </thead>\n",
       "  <tbody>\n",
       "    <tr>\n",
       "      <th>0</th>\n",
       "      <td>Customer_00349</td>\n",
       "      <td>paid for</td>\n",
       "      <td>subscription</td>\n",
       "      <td>2023-01-01 00:00:00</td>\n",
       "      <td>1724.03</td>\n",
       "    </tr>\n",
       "    <tr>\n",
       "      <th>1</th>\n",
       "      <td>Customer_00103</td>\n",
       "      <td>returned</td>\n",
       "      <td>book</td>\n",
       "      <td>2023-01-01 01:00:00</td>\n",
       "      <td>1636.33</td>\n",
       "    </tr>\n",
       "    <tr>\n",
       "      <th>2</th>\n",
       "      <td>Customer_00459</td>\n",
       "      <td>canceled</td>\n",
       "      <td>headphones</td>\n",
       "      <td>2023-01-01 02:00:00</td>\n",
       "      <td>1030.33</td>\n",
       "    </tr>\n",
       "    <tr>\n",
       "      <th>3</th>\n",
       "      <td>Customer_00131</td>\n",
       "      <td>canceled</td>\n",
       "      <td>laptop</td>\n",
       "      <td>2023-01-01 03:00:00</td>\n",
       "      <td>882.39</td>\n",
       "    </tr>\n",
       "    <tr>\n",
       "      <th>4</th>\n",
       "      <td>ShopWorld</td>\n",
       "      <td>rejected</td>\n",
       "      <td>ORDER-001276</td>\n",
       "      <td>2023-01-01 04:00:00</td>\n",
       "      <td>1992.56</td>\n",
       "    </tr>\n",
       "    <tr>\n",
       "      <th>...</th>\n",
       "      <td>...</td>\n",
       "      <td>...</td>\n",
       "      <td>...</td>\n",
       "      <td>...</td>\n",
       "      <td>...</td>\n",
       "    </tr>\n",
       "    <tr>\n",
       "      <th>995</th>\n",
       "      <td>Customer_00068</td>\n",
       "      <td>purchased</td>\n",
       "      <td>warranty extension</td>\n",
       "      <td>2023-02-11 11:00:00</td>\n",
       "      <td>1685.61</td>\n",
       "    </tr>\n",
       "    <tr>\n",
       "      <th>996</th>\n",
       "      <td>Customer_00385</td>\n",
       "      <td>returned</td>\n",
       "      <td>headphones</td>\n",
       "      <td>2023-02-11 12:00:00</td>\n",
       "      <td>970.60</td>\n",
       "    </tr>\n",
       "    <tr>\n",
       "      <th>997</th>\n",
       "      <td>ShopWorld</td>\n",
       "      <td>processed</td>\n",
       "      <td>ORDER-001841</td>\n",
       "      <td>2023-02-11 13:00:00</td>\n",
       "      <td>1557.14</td>\n",
       "    </tr>\n",
       "    <tr>\n",
       "      <th>998</th>\n",
       "      <td>Customer_00054</td>\n",
       "      <td>returned</td>\n",
       "      <td>book</td>\n",
       "      <td>2023-02-11 14:00:00</td>\n",
       "      <td>1348.97</td>\n",
       "    </tr>\n",
       "    <tr>\n",
       "      <th>999</th>\n",
       "      <td>FastGoods</td>\n",
       "      <td>processed</td>\n",
       "      <td>ORDER-001923</td>\n",
       "      <td>2023-02-11 15:00:00</td>\n",
       "      <td>1451.27</td>\n",
       "    </tr>\n",
       "  </tbody>\n",
       "</table>\n",
       "<p>1000 rows × 5 columns</p>\n",
       "</div>"
      ],
      "text/plain": [
       "            subject       verb              object           timestamp  \\\n",
       "0    Customer_00349   paid for        subscription 2023-01-01 00:00:00   \n",
       "1    Customer_00103   returned                book 2023-01-01 01:00:00   \n",
       "2    Customer_00459   canceled          headphones 2023-01-01 02:00:00   \n",
       "3    Customer_00131   canceled              laptop 2023-01-01 03:00:00   \n",
       "4         ShopWorld   rejected        ORDER-001276 2023-01-01 04:00:00   \n",
       "..              ...        ...                 ...                 ...   \n",
       "995  Customer_00068  purchased  warranty extension 2023-02-11 11:00:00   \n",
       "996  Customer_00385   returned          headphones 2023-02-11 12:00:00   \n",
       "997       ShopWorld  processed        ORDER-001841 2023-02-11 13:00:00   \n",
       "998  Customer_00054   returned                book 2023-02-11 14:00:00   \n",
       "999       FastGoods  processed        ORDER-001923 2023-02-11 15:00:00   \n",
       "\n",
       "      amount  \n",
       "0    1724.03  \n",
       "1    1636.33  \n",
       "2    1030.33  \n",
       "3     882.39  \n",
       "4    1992.56  \n",
       "..       ...  \n",
       "995  1685.61  \n",
       "996   970.60  \n",
       "997  1557.14  \n",
       "998  1348.97  \n",
       "999  1451.27  \n",
       "\n",
       "[1000 rows x 5 columns]"
      ]
     },
     "execution_count": 9,
     "metadata": {},
     "output_type": "execute_result"
    }
   ],
   "source": [
    "df"
   ]
  }
 ],
 "metadata": {
  "kernelspec": {
   "display_name": "Python 3",
   "language": "python",
   "name": "python3"
  },
  "language_info": {
   "codemirror_mode": {
    "name": "ipython",
    "version": 3
   },
   "file_extension": ".py",
   "mimetype": "text/x-python",
   "name": "python",
   "nbconvert_exporter": "python",
   "pygments_lexer": "ipython3",
   "version": "3.12.9"
  }
 },
 "nbformat": 4,
 "nbformat_minor": 2
}
