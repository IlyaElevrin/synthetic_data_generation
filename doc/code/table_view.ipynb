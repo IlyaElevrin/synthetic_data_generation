{
 "cells": [
  {
   "cell_type": "code",
   "execution_count": 1,
   "metadata": {},
   "outputs": [],
   "source": [
    "import pandas as pd\n",
    "import numpy as np"
   ]
  },
  {
   "cell_type": "markdown",
   "metadata": {},
   "source": [
    "The subject could be a customer or a company, the verb could be an action like “purchase”, “pay”, “return”, and the object could be a product or service. You need to create plausible data that reflects these interactions."
   ]
  },
  {
   "cell_type": "markdown",
   "metadata": {},
   "source": [
    "Lists possible subjects. For example, customers with IDs or names, and companies. Randomly generated first and last names can be used for customers. Companies can be fictitious names, e.g. “TechCorp”, “ShopWorld”, etc."
   ]
  },
  {
   "cell_type": "markdown",
   "metadata": {},
   "source": [
    "Then verbs. Transactional actions: purchased, returned, paid, ordered, canceled. Make sure the verbs are appropriate for the transactional context."
   ]
  },
  {
   "cell_type": "markdown",
   "metadata": {},
   "source": [
    "Objects are goods or services. You can make a list of popular products: smartphone, laptop, book, headphones, etc. You can also add services like “online course”, “subscription”."
   ]
  },
  {
   "cell_type": "code",
   "execution_count": 2,
   "metadata": {},
   "outputs": [],
   "source": [
    "np.random.seed(42)"
   ]
  },
  {
   "cell_type": "code",
   "execution_count": 3,
   "metadata": {},
   "outputs": [],
   "source": [
    "num_records = 1000"
   ]
  },
  {
   "cell_type": "code",
   "execution_count": null,
   "metadata": {},
   "outputs": [],
   "source": [
    "# generating elements\n",
    "customers = ['Customer_' + str(i).zfill(5) for i in range(1, 501)]\n",
    "companies = ['TechCorp', 'ShopWorld', 'ServiceMax', 'RetailGlobal', 'FastGoods']\n",
    "verbs_customer = ['purchased', 'returned', 'paid for', 'ordered', 'canceled']\n",
    "verbs_company = ['processed', 'shipped', 'confirmed', 'rejected', 'refunded']\n",
    "products = ['smartphone', 'laptop', 'book', 'headphones', 'gaming console', 'smartwatch']\n",
    "services = ['online course', 'subscription', 'warranty extension', 'service plan']\n",
    "order_numbers = ['ORDER-' + str(i).zfill(6) for i in range(1000, 2000)]"
   ]
  },
  {
   "cell_type": "code",
   "execution_count": 5,
   "metadata": {},
   "outputs": [],
   "source": [
    "data = []\n",
    "\n",
    "for _ in range(num_records):\n",
    "    # random type of subject (70% customers, 30% companies)\n",
    "    if np.random.rand() < 0.7:\n",
    "        subject = np.random.choice(customers)\n",
    "        verb = np.random.choice(verbs_customer)\n",
    "        obj = np.random.choice(products + services)\n",
    "    else:\n",
    "        subject = np.random.choice(companies)\n",
    "        verb = np.random.choice(verbs_company)\n",
    "        obj = np.random.choice(order_numbers + services)\n",
    "    \n",
    "    data.append([subject, verb, obj])\n"
   ]
  },
  {
   "cell_type": "code",
   "execution_count": 6,
   "metadata": {},
   "outputs": [],
   "source": [
    "df = pd.DataFrame(data, columns=['subject', 'verb', 'object'])"
   ]
  },
  {
   "cell_type": "code",
   "execution_count": 7,
   "metadata": {},
   "outputs": [
    {
     "name": "stderr",
     "output_type": "stream",
     "text": [
      "/tmp/ipykernel_354/4126857829.py:2: FutureWarning: 'H' is deprecated and will be removed in a future version, please use 'h' instead.\n",
      "  df['timestamp'] = pd.date_range(start='2023-01-01', periods=num_records, freq='H')\n"
     ]
    }
   ],
   "source": [
    "# adding additional attributes for realism\n",
    "df['timestamp'] = pd.date_range(start='2023-01-01', periods=num_records, freq='H')\n",
    "df['amount'] = np.round(np.random.uniform(10, 2000, num_records), 2)"
   ]
  },
  {
   "cell_type": "code",
   "execution_count": 8,
   "metadata": {},
   "outputs": [
    {
     "data": {
      "text/html": [
       "<div>\n",
       "<style scoped>\n",
       "    .dataframe tbody tr th:only-of-type {\n",
       "        vertical-align: middle;\n",
       "    }\n",
       "\n",
       "    .dataframe tbody tr th {\n",
       "        vertical-align: top;\n",
       "    }\n",
       "\n",
       "    .dataframe thead th {\n",
       "        text-align: right;\n",
       "    }\n",
       "</style>\n",
       "<table border=\"1\" class=\"dataframe\">\n",
       "  <thead>\n",
       "    <tr style=\"text-align: right;\">\n",
       "      <th></th>\n",
       "      <th>subject</th>\n",
       "      <th>verb</th>\n",
       "      <th>object</th>\n",
       "      <th>timestamp</th>\n",
       "      <th>amount</th>\n",
       "    </tr>\n",
       "  </thead>\n",
       "  <tbody>\n",
       "    <tr>\n",
       "      <th>0</th>\n",
       "      <td>Customer_00349</td>\n",
       "      <td>paid for</td>\n",
       "      <td>subscription</td>\n",
       "      <td>2023-01-01 00:00:00</td>\n",
       "      <td>1724.03</td>\n",
       "    </tr>\n",
       "    <tr>\n",
       "      <th>1</th>\n",
       "      <td>Customer_00103</td>\n",
       "      <td>returned</td>\n",
       "      <td>book</td>\n",
       "      <td>2023-01-01 01:00:00</td>\n",
       "      <td>1636.33</td>\n",
       "    </tr>\n",
       "    <tr>\n",
       "      <th>2</th>\n",
       "      <td>Customer_00459</td>\n",
       "      <td>canceled</td>\n",
       "      <td>headphones</td>\n",
       "      <td>2023-01-01 02:00:00</td>\n",
       "      <td>1030.33</td>\n",
       "    </tr>\n",
       "    <tr>\n",
       "      <th>3</th>\n",
       "      <td>Customer_00131</td>\n",
       "      <td>canceled</td>\n",
       "      <td>laptop</td>\n",
       "      <td>2023-01-01 03:00:00</td>\n",
       "      <td>882.39</td>\n",
       "    </tr>\n",
       "    <tr>\n",
       "      <th>4</th>\n",
       "      <td>ShopWorld</td>\n",
       "      <td>rejected</td>\n",
       "      <td>ORDER-001276</td>\n",
       "      <td>2023-01-01 04:00:00</td>\n",
       "      <td>1992.56</td>\n",
       "    </tr>\n",
       "    <tr>\n",
       "      <th>5</th>\n",
       "      <td>Customer_00314</td>\n",
       "      <td>canceled</td>\n",
       "      <td>warranty extension</td>\n",
       "      <td>2023-01-01 05:00:00</td>\n",
       "      <td>466.05</td>\n",
       "    </tr>\n",
       "    <tr>\n",
       "      <th>6</th>\n",
       "      <td>Customer_00059</td>\n",
       "      <td>returned</td>\n",
       "      <td>book</td>\n",
       "      <td>2023-01-01 06:00:00</td>\n",
       "      <td>1098.28</td>\n",
       "    </tr>\n",
       "  </tbody>\n",
       "</table>\n",
       "</div>"
      ],
      "text/plain": [
       "          subject      verb              object           timestamp   amount\n",
       "0  Customer_00349  paid for        subscription 2023-01-01 00:00:00  1724.03\n",
       "1  Customer_00103  returned                book 2023-01-01 01:00:00  1636.33\n",
       "2  Customer_00459  canceled          headphones 2023-01-01 02:00:00  1030.33\n",
       "3  Customer_00131  canceled              laptop 2023-01-01 03:00:00   882.39\n",
       "4       ShopWorld  rejected        ORDER-001276 2023-01-01 04:00:00  1992.56\n",
       "5  Customer_00314  canceled  warranty extension 2023-01-01 05:00:00   466.05\n",
       "6  Customer_00059  returned                book 2023-01-01 06:00:00  1098.28"
      ]
     },
     "execution_count": 8,
     "metadata": {},
     "output_type": "execute_result"
    }
   ],
   "source": [
    "df.head(7)"
   ]
  }
 ],
 "metadata": {
  "kernelspec": {
   "display_name": "Python 3",
   "language": "python",
   "name": "python3"
  },
  "language_info": {
   "codemirror_mode": {
    "name": "ipython",
    "version": 3
   },
   "file_extension": ".py",
   "mimetype": "text/x-python",
   "name": "python",
   "nbconvert_exporter": "python",
   "pygments_lexer": "ipython3",
   "version": "3.12.9"
  }
 },
 "nbformat": 4,
 "nbformat_minor": 2
}
