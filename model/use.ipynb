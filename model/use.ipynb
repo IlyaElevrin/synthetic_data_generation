{
  "nbformat": 4,
  "nbformat_minor": 0,
  "metadata": {
    "colab": {
      "provenance": [],
      "gpuType": "T4"
    },
    "kernelspec": {
      "name": "python3",
      "display_name": "Python 3"
    },
    "language_info": {
      "name": "python"
    },
    "accelerator": "GPU"
  },
  "cells": [
    {
      "cell_type": "markdown",
      "source": [
        "now we'll experiment the weights and then we'll deploy the model"
      ],
      "metadata": {
        "id": "ZIBCIoO62u37"
      }
    },
    {
      "cell_type": "code",
      "source": [
        "pip install sdv"
      ],
      "metadata": {
        "colab": {
          "base_uri": "https://localhost:8080/"
        },
        "id": "3bN3yocM1fJV",
        "outputId": "0ed81a6a-7ec9-4917-c8f0-b757994531f2"
      },
      "execution_count": 21,
      "outputs": [
        {
          "output_type": "stream",
          "name": "stdout",
          "text": [
            "Requirement already satisfied: sdv in /usr/local/lib/python3.11/dist-packages (1.19.0)\n",
            "Requirement already satisfied: CTGAN in /usr/local/lib/python3.11/dist-packages (0.11.0)\n",
            "Requirement already satisfied: boto3<2.0.0,>=1.28 in /usr/local/lib/python3.11/dist-packages (from sdv) (1.37.32)\n",
            "Requirement already satisfied: botocore<2.0.0,>=1.31 in /usr/local/lib/python3.11/dist-packages (from sdv) (1.37.32)\n",
            "Requirement already satisfied: cloudpickle>=2.1.0 in /usr/local/lib/python3.11/dist-packages (from sdv) (3.1.1)\n",
            "Requirement already satisfied: graphviz>=0.13.2 in /usr/local/lib/python3.11/dist-packages (from sdv) (0.20.3)\n",
            "Requirement already satisfied: numpy>=1.23.3 in /usr/local/lib/python3.11/dist-packages (from sdv) (2.0.2)\n",
            "Requirement already satisfied: pandas>=1.5.0 in /usr/local/lib/python3.11/dist-packages (from sdv) (2.2.2)\n",
            "Requirement already satisfied: tqdm>=4.29 in /usr/local/lib/python3.11/dist-packages (from sdv) (4.67.1)\n",
            "Requirement already satisfied: copulas>=0.12.1 in /usr/local/lib/python3.11/dist-packages (from sdv) (0.12.2)\n",
            "Requirement already satisfied: deepecho>=0.7.0 in /usr/local/lib/python3.11/dist-packages (from sdv) (0.7.0)\n",
            "Requirement already satisfied: rdt>=1.14.0 in /usr/local/lib/python3.11/dist-packages (from sdv) (1.16.0)\n",
            "Requirement already satisfied: sdmetrics>=0.19.0 in /usr/local/lib/python3.11/dist-packages (from sdv) (0.19.0)\n",
            "Requirement already satisfied: platformdirs>=4.0 in /usr/local/lib/python3.11/dist-packages (from sdv) (4.3.7)\n",
            "Requirement already satisfied: pyyaml>=6.0.1 in /usr/local/lib/python3.11/dist-packages (from sdv) (6.0.2)\n",
            "Requirement already satisfied: torch>=2.0.0 in /usr/local/lib/python3.11/dist-packages (from CTGAN) (2.6.0+cu124)\n",
            "Requirement already satisfied: jmespath<2.0.0,>=0.7.1 in /usr/local/lib/python3.11/dist-packages (from boto3<2.0.0,>=1.28->sdv) (1.0.1)\n",
            "Requirement already satisfied: s3transfer<0.12.0,>=0.11.0 in /usr/local/lib/python3.11/dist-packages (from boto3<2.0.0,>=1.28->sdv) (0.11.4)\n",
            "Requirement already satisfied: python-dateutil<3.0.0,>=2.1 in /usr/local/lib/python3.11/dist-packages (from botocore<2.0.0,>=1.31->sdv) (2.8.2)\n",
            "Requirement already satisfied: urllib3!=2.2.0,<3,>=1.25.4 in /usr/local/lib/python3.11/dist-packages (from botocore<2.0.0,>=1.31->sdv) (2.3.0)\n",
            "Requirement already satisfied: plotly>=5.10.0 in /usr/local/lib/python3.11/dist-packages (from copulas>=0.12.1->sdv) (5.24.1)\n",
            "Requirement already satisfied: scipy>=1.9.2 in /usr/local/lib/python3.11/dist-packages (from copulas>=0.12.1->sdv) (1.14.1)\n",
            "Requirement already satisfied: pytz>=2020.1 in /usr/local/lib/python3.11/dist-packages (from pandas>=1.5.0->sdv) (2025.2)\n",
            "Requirement already satisfied: tzdata>=2022.7 in /usr/local/lib/python3.11/dist-packages (from pandas>=1.5.0->sdv) (2025.2)\n",
            "Requirement already satisfied: scikit-learn>=1.1.3 in /usr/local/lib/python3.11/dist-packages (from rdt>=1.14.0->sdv) (1.6.1)\n",
            "Requirement already satisfied: Faker>=17 in /usr/local/lib/python3.11/dist-packages (from rdt>=1.14.0->sdv) (37.1.0)\n",
            "Requirement already satisfied: filelock in /usr/local/lib/python3.11/dist-packages (from torch>=2.0.0->CTGAN) (3.18.0)\n",
            "Requirement already satisfied: typing-extensions>=4.10.0 in /usr/local/lib/python3.11/dist-packages (from torch>=2.0.0->CTGAN) (4.13.1)\n",
            "Requirement already satisfied: networkx in /usr/local/lib/python3.11/dist-packages (from torch>=2.0.0->CTGAN) (3.4.2)\n",
            "Requirement already satisfied: jinja2 in /usr/local/lib/python3.11/dist-packages (from torch>=2.0.0->CTGAN) (3.1.6)\n",
            "Requirement already satisfied: fsspec in /usr/local/lib/python3.11/dist-packages (from torch>=2.0.0->CTGAN) (2025.3.2)\n",
            "Requirement already satisfied: nvidia-cuda-nvrtc-cu12==12.4.127 in /usr/local/lib/python3.11/dist-packages (from torch>=2.0.0->CTGAN) (12.4.127)\n",
            "Requirement already satisfied: nvidia-cuda-runtime-cu12==12.4.127 in /usr/local/lib/python3.11/dist-packages (from torch>=2.0.0->CTGAN) (12.4.127)\n",
            "Requirement already satisfied: nvidia-cuda-cupti-cu12==12.4.127 in /usr/local/lib/python3.11/dist-packages (from torch>=2.0.0->CTGAN) (12.4.127)\n",
            "Requirement already satisfied: nvidia-cudnn-cu12==9.1.0.70 in /usr/local/lib/python3.11/dist-packages (from torch>=2.0.0->CTGAN) (9.1.0.70)\n",
            "Requirement already satisfied: nvidia-cublas-cu12==12.4.5.8 in /usr/local/lib/python3.11/dist-packages (from torch>=2.0.0->CTGAN) (12.4.5.8)\n",
            "Requirement already satisfied: nvidia-cufft-cu12==11.2.1.3 in /usr/local/lib/python3.11/dist-packages (from torch>=2.0.0->CTGAN) (11.2.1.3)\n",
            "Requirement already satisfied: nvidia-curand-cu12==10.3.5.147 in /usr/local/lib/python3.11/dist-packages (from torch>=2.0.0->CTGAN) (10.3.5.147)\n",
            "Requirement already satisfied: nvidia-cusolver-cu12==11.6.1.9 in /usr/local/lib/python3.11/dist-packages (from torch>=2.0.0->CTGAN) (11.6.1.9)\n",
            "Requirement already satisfied: nvidia-cusparse-cu12==12.3.1.170 in /usr/local/lib/python3.11/dist-packages (from torch>=2.0.0->CTGAN) (12.3.1.170)\n",
            "Requirement already satisfied: nvidia-cusparselt-cu12==0.6.2 in /usr/local/lib/python3.11/dist-packages (from torch>=2.0.0->CTGAN) (0.6.2)\n",
            "Requirement already satisfied: nvidia-nccl-cu12==2.21.5 in /usr/local/lib/python3.11/dist-packages (from torch>=2.0.0->CTGAN) (2.21.5)\n",
            "Requirement already satisfied: nvidia-nvtx-cu12==12.4.127 in /usr/local/lib/python3.11/dist-packages (from torch>=2.0.0->CTGAN) (12.4.127)\n",
            "Requirement already satisfied: nvidia-nvjitlink-cu12==12.4.127 in /usr/local/lib/python3.11/dist-packages (from torch>=2.0.0->CTGAN) (12.4.127)\n",
            "Requirement already satisfied: triton==3.2.0 in /usr/local/lib/python3.11/dist-packages (from torch>=2.0.0->CTGAN) (3.2.0)\n",
            "Requirement already satisfied: sympy==1.13.1 in /usr/local/lib/python3.11/dist-packages (from torch>=2.0.0->CTGAN) (1.13.1)\n",
            "Requirement already satisfied: mpmath<1.4,>=1.1.0 in /usr/local/lib/python3.11/dist-packages (from sympy==1.13.1->torch>=2.0.0->CTGAN) (1.3.0)\n",
            "Requirement already satisfied: tenacity>=6.2.0 in /usr/local/lib/python3.11/dist-packages (from plotly>=5.10.0->copulas>=0.12.1->sdv) (9.1.2)\n",
            "Requirement already satisfied: packaging in /usr/local/lib/python3.11/dist-packages (from plotly>=5.10.0->copulas>=0.12.1->sdv) (24.2)\n",
            "Requirement already satisfied: six>=1.5 in /usr/local/lib/python3.11/dist-packages (from python-dateutil<3.0.0,>=2.1->botocore<2.0.0,>=1.31->sdv) (1.17.0)\n",
            "Requirement already satisfied: joblib>=1.2.0 in /usr/local/lib/python3.11/dist-packages (from scikit-learn>=1.1.3->rdt>=1.14.0->sdv) (1.4.2)\n",
            "Requirement already satisfied: threadpoolctl>=3.1.0 in /usr/local/lib/python3.11/dist-packages (from scikit-learn>=1.1.3->rdt>=1.14.0->sdv) (3.6.0)\n",
            "Requirement already satisfied: MarkupSafe>=2.0 in /usr/local/lib/python3.11/dist-packages (from jinja2->torch>=2.0.0->CTGAN) (3.0.2)\n"
          ]
        }
      ]
    },
    {
      "cell_type": "code",
      "source": [
        "import pandas as pd\n",
        "import numpy as np\n",
        "from sdv.single_table import CTGANSynthesizer\n",
        "from sdv.metadata import SingleTableMetadata"
      ],
      "metadata": {
        "colab": {
          "base_uri": "https://localhost:8080/",
          "height": 376
        },
        "id": "3eSFchj82oEi",
        "outputId": "7e6aeabd-3e77-4b0e-9f15-bb60a52071a4"
      },
      "execution_count": 2,
      "outputs": [
        {
          "output_type": "error",
          "ename": "ModuleNotFoundError",
          "evalue": "No module named 'sdv'",
          "traceback": [
            "\u001b[0;31m---------------------------------------------------------------------------\u001b[0m",
            "\u001b[0;31mModuleNotFoundError\u001b[0m                       Traceback (most recent call last)",
            "\u001b[0;32m<ipython-input-2-c66a56d53f3d>\u001b[0m in \u001b[0;36m<cell line: 0>\u001b[0;34m()\u001b[0m\n\u001b[1;32m      1\u001b[0m \u001b[0;32mimport\u001b[0m \u001b[0mpandas\u001b[0m \u001b[0;32mas\u001b[0m \u001b[0mpd\u001b[0m\u001b[0;34m\u001b[0m\u001b[0;34m\u001b[0m\u001b[0m\n\u001b[1;32m      2\u001b[0m \u001b[0;32mimport\u001b[0m \u001b[0mnumpy\u001b[0m \u001b[0;32mas\u001b[0m \u001b[0mnp\u001b[0m\u001b[0;34m\u001b[0m\u001b[0;34m\u001b[0m\u001b[0m\n\u001b[0;32m----> 3\u001b[0;31m \u001b[0;32mfrom\u001b[0m \u001b[0msdv\u001b[0m\u001b[0;34m.\u001b[0m\u001b[0msingle_table\u001b[0m \u001b[0;32mimport\u001b[0m \u001b[0mCTGANSynthesizer\u001b[0m\u001b[0;34m\u001b[0m\u001b[0;34m\u001b[0m\u001b[0m\n\u001b[0m\u001b[1;32m      4\u001b[0m \u001b[0;32mfrom\u001b[0m \u001b[0msdv\u001b[0m\u001b[0;34m.\u001b[0m\u001b[0mmetadata\u001b[0m \u001b[0;32mimport\u001b[0m \u001b[0mSingleTableMetadata\u001b[0m\u001b[0;34m\u001b[0m\u001b[0;34m\u001b[0m\u001b[0m\n",
            "\u001b[0;31mModuleNotFoundError\u001b[0m: No module named 'sdv'",
            "",
            "\u001b[0;31m---------------------------------------------------------------------------\u001b[0;32m\nNOTE: If your import is failing due to a missing package, you can\nmanually install dependencies using either !pip or !apt.\n\nTo view examples of installing some common dependencies, click the\n\"Open Examples\" button below.\n\u001b[0;31m---------------------------------------------------------------------------\u001b[0m\n"
          ],
          "errorDetails": {
            "actions": [
              {
                "action": "open_url",
                "actionText": "Open Examples",
                "url": "/notebooks/snippets/importing_libraries.ipynb"
              }
            ]
          }
        }
      ]
    },
    {
      "cell_type": "code",
      "source": [
        "from sdv.errors import InvalidDataError"
      ],
      "metadata": {
        "id": "BUPx15NkIc4_"
      },
      "execution_count": 72,
      "outputs": []
    },
    {
      "cell_type": "code",
      "source": [
        "model = CTGANSynthesizer.load('/content/ctgan_model.pkl')"
      ],
      "metadata": {
        "id": "-cLnwMTyHuw6"
      },
      "execution_count": 66,
      "outputs": []
    },
    {
      "cell_type": "code",
      "source": [
        "def generate_synthetic_data(model_path, input_data, num_rows=100):\n",
        "    \"\"\"Генерация синтетических данных из subject-verb-object\"\"\"\n",
        "    try:\n",
        "        # 1. Загрузка модели\n",
        "        model = CTGANSynthesizer.load(model_path)\n",
        "\n",
        "        # 2. Создаем временные данные с полной структурой\n",
        "        # Сначала создаем минимальный DataFrame с нужными колонками\n",
        "        temp_data = pd.DataFrame({\n",
        "            'subject': input_data['subject'],\n",
        "            'verb': input_data['verb'],\n",
        "            'object': input_data['object'],\n",
        "            # Добавляем фиктивные числовые колонки\n",
        "            'amount': np.random.uniform(10, 1000, size=len(input_data)),\n",
        "            'time': pd.to_datetime('2023-01-01') + pd.to_timedelta(np.random.randint(0, 365, len(input_data)), 'days'),\n",
        "            # Добавляем все возможные one-hot колонки\n",
        "            'verb_bought': (input_data['verb'] == 'bought').astype(int),\n",
        "            'verb_returned': (input_data['verb'] == 'returned').astype(int),\n",
        "            'verb_ordered': (input_data['verb'] == 'ordered').astype(int),\n",
        "            'verb_paid': (input_data['verb'] == 'paid').astype(int),\n",
        "            'verb_sold': (input_data['verb'] == 'sold').astype(int),\n",
        "            'object_laptop': (input_data['object'] == 'laptop').astype(int),\n",
        "            'object_phone': (input_data['object'] == 'phone').astype(int),\n",
        "            'object_book': (input_data['object'] == 'book').astype(int),\n",
        "            'object_product': (input_data['object'] == 'product').astype(int),\n",
        "            'object_service': (input_data['object'] == 'service').astype(int),\n",
        "            # Добавляем фиктивные колонки масок\n",
        "            'mask': 1,\n",
        "            'mask_amount': 1,\n",
        "            'mask_time': 1,\n",
        "            'synthetic_id': np.arange(len(input_data))\n",
        "        })\n",
        "\n",
        "        # 3. Добавляем возможные недостающие колонки\n",
        "        expected_columns = [\n",
        "            'amount_norm', 'unix_time_norm', 'object_accessory',\n",
        "            'verb_cancelled', 'user_id'\n",
        "        ]\n",
        "        for col in expected_columns:\n",
        "            if col not in temp_data.columns:\n",
        "                temp_data[col] = 0 if not col.endswith('_norm') else np.random.rand(len(input_data))\n",
        "\n",
        "        # 4. Генерация синтетических данных\n",
        "        synthetic_data = model.sample(num_rows=num_rows)\n",
        "\n",
        "        # 5. Извлекаем только нужные колонки\n",
        "        result = synthetic_data[['subject', 'verb', 'object']].copy()\n",
        "\n",
        "        # 6. Корректируем verb и object на основе one-hot колонок\n",
        "        for col in synthetic_data.columns:\n",
        "            if col.startswith('verb_') and synthetic_data[col].sum() > 0:\n",
        "                result.loc[synthetic_data[col] == 1, 'verb'] = col.replace('verb_', '')\n",
        "            if col.startswith('object_') and synthetic_data[col].sum() > 0:\n",
        "                result.loc[synthetic_data[col] == 1, 'object'] = col.replace('object_', '')\n",
        "\n",
        "        return result\n",
        "\n",
        "    except Exception as e:\n",
        "        print(f\"Произошла ошибка: {str(e)}\")\n",
        "        print(\"Попробуем дообучить модель...\")\n",
        "\n",
        "        # Создаем метаданные для дообучения\n",
        "        metadata = SingleTableMetadata()\n",
        "        metadata.detect_from_dataframe(temp_data)\n",
        "\n",
        "        # Дообучение модели\n",
        "        model = CTGANSynthesizer(metadata, epochs=10)\n",
        "        model.fit(temp_data)\n",
        "\n",
        "        # Повторная генерация\n",
        "        synthetic_data = model.sample(num_rows=num_rows)\n",
        "        return synthetic_data[['subject', 'verb', 'object']]"
      ],
      "metadata": {
        "id": "A7HTq3h7F3Y1"
      },
      "execution_count": 79,
      "outputs": []
    },
    {
      "cell_type": "code",
      "source": [
        "if __name__ == \"__main__\":\n",
        "    # Ваши входные данные\n",
        "    input_df = pd.DataFrame({\n",
        "        'subject': ['customer1', 'customer2', 'customer3'],\n",
        "        'verb': ['bought', 'returned', 'ordered'],\n",
        "        'object': ['laptop', 'book', 'phone']\n",
        "    })\n",
        "\n",
        "    # Генерация данных\n",
        "    try:\n",
        "        synthetic_df = generate_synthetic_data(\n",
        "            model_path='/content/ctgan_model.pkl',\n",
        "            input_data=input_df,\n",
        "            num_rows=50\n",
        "        )\n",
        "\n",
        "        print(\"Сгенерированные данные:\")\n",
        "        print(synthetic_df.head())\n",
        "\n",
        "        # Сохранение результатов\n",
        "        synthetic_df.to_csv('synthetic_results.csv', index=False)\n",
        "        print(\"Результаты сохранены в synthetic_results.csv\")\n",
        "\n",
        "    except Exception as e:\n",
        "        print(f\"Критическая ошибка: {str(e)}\")"
      ],
      "metadata": {
        "colab": {
          "base_uri": "https://localhost:8080/"
        },
        "id": "oEcdctOWF3WO",
        "outputId": "d8e9ecd9-5eeb-42e8-a9fd-f2065c62a24e"
      },
      "execution_count": 80,
      "outputs": [
        {
          "output_type": "stream",
          "name": "stdout",
          "text": [
            "Произошла ошибка: \"['subject'] not in index\"\n",
            "Попробуем дообучить модель...\n"
          ]
        },
        {
          "output_type": "stream",
          "name": "stderr",
          "text": [
            "/usr/local/lib/python3.11/dist-packages/sdv/single_table/base.py:119: FutureWarning: The 'SingleTableMetadata' is deprecated. Please use the new 'Metadata' class for synthesizers.\n",
            "  warnings.warn(DEPRECATION_MSG, FutureWarning)\n",
            "/usr/local/lib/python3.11/dist-packages/sdv/single_table/base.py:104: UserWarning: We strongly recommend saving the metadata using 'save_to_json' for replicability in future SDV versions.\n",
            "  warnings.warn(\n"
          ]
        },
        {
          "output_type": "stream",
          "name": "stdout",
          "text": [
            "Сгенерированные данные:\n",
            "     subject      verb  object\n",
            "0  customer2    bought    book\n",
            "1  customer1  returned    book\n",
            "2  customer3   ordered  laptop\n",
            "3  customer2  returned   phone\n",
            "4  customer2  returned   phone\n",
            "Результаты сохранены в synthetic_results.csv\n"
          ]
        }
      ]
    },
    {
      "cell_type": "markdown",
      "source": [
        "data"
      ],
      "metadata": {
        "id": "p3XxRqJLfxva"
      }
    },
    {
      "cell_type": "code",
      "source": [
        "input_df = pd.DataFrame({\n",
        "        'subject': ['customer1', 'customer2', 'customer3'],\n",
        "        'verb': ['bought', 'returned', 'ordered'],\n",
        "        'object': ['laptop', 'book', 'phone']\n",
        "    })"
      ],
      "metadata": {
        "id": "xQX-Jq7WfXXl"
      },
      "execution_count": 4,
      "outputs": []
    },
    {
      "cell_type": "code",
      "source": [
        "input_data=input_df"
      ],
      "metadata": {
        "id": "uKW4lq5YfXVT"
      },
      "execution_count": 5,
      "outputs": []
    },
    {
      "cell_type": "code",
      "source": [
        "temp_data = pd.DataFrame({\n",
        "            'subject': input_data['subject'],\n",
        "            'verb': input_data['verb'],\n",
        "            'object': input_data['object'],\n",
        "            # Добавляем фиктивные числовые колонки\n",
        "            'amount': np.random.uniform(10, 1000, size=len(input_data)),\n",
        "            'time': pd.to_datetime('2023-01-01') + pd.to_timedelta(np.random.randint(0, 365, len(input_data)), 'days'),\n",
        "            # Добавляем все возможные one-hot колонки\n",
        "            'verb_bought': (input_data['verb'] == 'bought').astype(int),\n",
        "            'verb_returned': (input_data['verb'] == 'returned').astype(int),\n",
        "            'verb_ordered': (input_data['verb'] == 'ordered').astype(int),\n",
        "            'verb_paid': (input_data['verb'] == 'paid').astype(int),\n",
        "            'verb_sold': (input_data['verb'] == 'sold').astype(int),\n",
        "            'object_laptop': (input_data['object'] == 'laptop').astype(int),\n",
        "            'object_phone': (input_data['object'] == 'phone').astype(int),\n",
        "            'object_book': (input_data['object'] == 'book').astype(int),\n",
        "            'object_product': (input_data['object'] == 'product').astype(int),\n",
        "            'object_service': (input_data['object'] == 'service').astype(int),\n",
        "            # Добавляем фиктивные колонки масок\n",
        "            'mask': 1,\n",
        "            'mask_amount': 1,\n",
        "            'mask_time': 1,\n",
        "            'synthetic_id': np.arange(len(input_data))\n",
        "        })"
      ],
      "metadata": {
        "id": "xEdn6DMBfXZy"
      },
      "execution_count": 6,
      "outputs": []
    },
    {
      "cell_type": "code",
      "source": [
        "temp_data.to_csv('temp_data.csv', index=False)"
      ],
      "metadata": {
        "id": "1Kb0TxvCfmha"
      },
      "execution_count": 7,
      "outputs": []
    }
  ]
}